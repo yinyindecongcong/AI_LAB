{
 "cells": [
  {
   "cell_type": "code",
   "execution_count": 1,
   "metadata": {
    "collapsed": true
   },
   "outputs": [],
   "source": [
    "from pomegranate import *"
   ]
  },
  {
   "cell_type": "markdown",
   "metadata": {},
   "source": [
    "### 三门问题"
   ]
  },
  {
   "cell_type": "code",
   "execution_count": 2,
   "metadata": {
    "collapsed": true
   },
   "outputs": [],
   "source": [
    "#三门问题\n",
    "#构建条件概率列表\n",
    "ConditionalProbabilityList = []\n",
    "for first in ['A', 'B', 'C']:\n",
    "    for second in ['A', 'B', 'C']:\n",
    "        for third in ['A', 'B', 'C']:\n",
    "            pro = 0.0 if (third == first or third == second) else (1.0 if first != second else 0.5)\n",
    "            ConditionalProbabilityList.append([first, second, third, pro])"
   ]
  },
  {
   "cell_type": "code",
   "execution_count": 3,
   "metadata": {},
   "outputs": [
    {
     "data": {
      "text/plain": [
       "27"
      ]
     },
     "execution_count": 3,
     "metadata": {},
     "output_type": "execute_result"
    }
   ],
   "source": [
    "len(ConditionalProbabilityList)"
   ]
  },
  {
   "cell_type": "code",
   "execution_count": 4,
   "metadata": {
    "collapsed": true
   },
   "outputs": [],
   "source": [
    "#初始化每个节点的分布\n",
    "guest = DiscreteDistribution({'A': 1./3, 'B': 1./3, 'C': 1./3})\n",
    "prize = DiscreteDistribution({'A': 1./3, 'B': 1./3, 'C': 1./3})\n",
    "monty = ConditionalProbabilityTable(ConditionalProbabilityList,[guest, prize])\n",
    "s1 = State(guest, name='guest')\n",
    "s2 = State(prize, name='prize')\n",
    "s3 = State(monty, name='monty')"
   ]
  },
  {
   "cell_type": "code",
   "execution_count": 5,
   "metadata": {
    "collapsed": true
   },
   "outputs": [],
   "source": [
    "#初始化贝叶斯网络，加入节点\n",
    "model = BayesianNetwork(\"Monty Hall Problem\")\n",
    "model.add_states(s1,s2,s3)"
   ]
  },
  {
   "cell_type": "code",
   "execution_count": 6,
   "metadata": {
    "collapsed": true
   },
   "outputs": [],
   "source": [
    "#加入边\n",
    "model.add_transition(s1, s3)\n",
    "model.add_transition(s2, s3)\n",
    "model.bake() #加入边结束"
   ]
  },
  {
   "cell_type": "code",
   "execution_count": 9,
   "metadata": {},
   "outputs": [
    {
     "name": "stdout",
     "output_type": "stream",
     "text": [
      "三门问题求解——\n",
      "P(['A','C','B']) = 0.11111111111111109\n",
      "P(['A','C','A']) = 0.0\n"
     ]
    }
   ],
   "source": [
    "print('三门问题求解——')\n",
    "print(\"P(['A','C','B']) =\", model.probability(['A', 'C', 'B']))\n",
    "print(\"P(['A','C','A']) =\", model.probability(['A', 'C', 'A']))"
   ]
  },
  {
   "cell_type": "markdown",
   "metadata": {},
   "source": [
    "### Burglary问题"
   ]
  },
  {
   "cell_type": "code",
   "execution_count": 11,
   "metadata": {
    "collapsed": true
   },
   "outputs": [],
   "source": [
    "#Burglary问题\n",
    "#初始化每个节点的分布\n",
    "Burglary = DiscreteDistribution({'B': 0.001, '~B': 0.999})\n",
    "Earthquake = DiscreteDistribution({'E': 0.002, '~E': 0.998})\n",
    "Alarm = ConditionalProbabilityTable([['B','E','A',0.95],\n",
    "                                     ['B','E','~A',0.05],\n",
    "                                     ['B','~E','A',0.94],\n",
    "                                     ['B','~E','~A',0.06],\n",
    "                                     ['~B','E','A',0.29],\n",
    "                                     ['~B','E','~A',0.71],\n",
    "                                     ['~B','~E','A',0.001],\n",
    "                                     ['~B','~E','~A',0.999]], [Burglary, Earthquake])\n",
    "Johncalls = ConditionalProbabilityTable([['A', 'J', 0.9],\n",
    "                                         ['A', '~J', 0.1],\n",
    "                                         ['~A', 'J', 0.05],\n",
    "                                         ['~A', '~J', 0.95]],[Alarm])\n",
    "Marycalls = ConditionalProbabilityTable([['A', 'M', 0.7],\n",
    "                                         ['A', '~M', 0.3],\n",
    "                                         ['~A', 'M', 0.01],\n",
    "                                         ['~A', '~M', 0.99]],[Alarm])\n",
    "s1 = State(Burglary, name='Burglary')\n",
    "s2 = State(Earthquake, name='Earthquake')\n",
    "s3 = State(Alarm, name='Alarm')\n",
    "s4 = State(Johncalls, name='Johncalls')\n",
    "s5 = State(Marycalls, name='Marycalls')"
   ]
  },
  {
   "cell_type": "code",
   "execution_count": 12,
   "metadata": {
    "collapsed": true
   },
   "outputs": [],
   "source": [
    "#初始化贝叶斯网络，加入各节点\n",
    "model = BayesianNetwork(\"Burglary problem\")\n",
    "model.add_states(s1,s2,s3,s4,s5)"
   ]
  },
  {
   "cell_type": "code",
   "execution_count": 13,
   "metadata": {
    "collapsed": true
   },
   "outputs": [],
   "source": [
    "#加入边\n",
    "model.add_transition(s1,s3)\n",
    "model.add_transition(s2,s3)\n",
    "model.add_transition(s3,s4)\n",
    "model.add_transition(s3,s5)\n",
    "model.bake()"
   ]
  },
  {
   "cell_type": "code",
   "execution_count": 14,
   "metadata": {
    "collapsed": true
   },
   "outputs": [],
   "source": [
    "#计算联合概率\n",
    "model_var_dict = {'Burglary':['B', '~B'], 'Earthquake':['E','~E'], \n",
    "                  'Alarm':['A','~A'], 'Johncalls':['J','~J'], \n",
    "                  'Marycalls':['M','~M']}\n",
    "def calc_joint_pro(model, **var_dict):\n",
    "    for var in model_var_dict.keys():\n",
    "        if var_dict.get(var, None) == None:\n",
    "            res = 0.\n",
    "            temp_dict = var_dict.copy()\n",
    "            for value in model_var_dict[var]:\n",
    "                temp_dict[var] = value\n",
    "                res += calc_joint_pro(model, **temp_dict)\n",
    "            return res\n",
    "    return model.probability([var_dict[var] for var in model_var_dict.keys()])"
   ]
  },
  {
   "cell_type": "code",
   "execution_count": 19,
   "metadata": {
    "collapsed": true
   },
   "outputs": [],
   "source": [
    "p1 = calc_joint_pro(model, **{'Johncalls': 'J', 'Marycalls': 'M'})\n",
    "p2 = calc_joint_pro(model, **{'Burglary': 'B', 'Earthquake': 'E', 'Alarm': 'A', 'Johncalls': 'J', 'Marycalls': 'M'})\n",
    "p3 = calc_joint_pro(model, **{'Alarm': 'A', 'Johncalls': 'J', 'Marycalls': 'M'})/calc_joint_pro(model, **{'Johncalls': 'J', 'Marycalls': 'M'})\n",
    "p4 = calc_joint_pro(model, **{'Burglary': '~B', 'Johncalls': 'J', 'Marycalls': '~M'}) / calc_joint_pro(model, **{'Burglary': '~B'})"
   ]
  },
  {
   "cell_type": "code",
   "execution_count": 18,
   "metadata": {},
   "outputs": [
    {
     "name": "stdout",
     "output_type": "stream",
     "text": [
      "Burglary问题求解——\n",
      "P(JohnCalls, MaryCalls) = 0.0020841002390000014\n",
      "P(Burglary, Earthquake, Alarm, JohnCalls, MaryCalls) = 1.1969999999999995e-06\n",
      "P(Alarm | JohnCalls, MaryCalls) = 0.7606920388631077\n",
      "P(JohnCalls, ¬ MaryCalls | ¬ Burglary) = 0.049847948999999996\n"
     ]
    }
   ],
   "source": [
    "print('Burglary问题求解——')\n",
    "print(\"P(JohnCalls, MaryCalls) =\", p1)\n",
    "print(\"P(Burglary, Earthquake, Alarm, JohnCalls, MaryCalls) =\", p2)\n",
    "print(\"P(Alarm | JohnCalls, MaryCalls) =\", p3)\n",
    "print(\"P(JohnCalls, ¬ MaryCalls | ¬ Burglary) =\", p4)"
   ]
  },
  {
   "cell_type": "code",
   "execution_count": null,
   "metadata": {
    "collapsed": true
   },
   "outputs": [],
   "source": []
  },
  {
   "cell_type": "markdown",
   "metadata": {},
   "source": [
    "### Diagnosing问题"
   ]
  },
  {
   "cell_type": "code",
   "execution_count": 20,
   "metadata": {
    "collapsed": true
   },
   "outputs": [],
   "source": [
    "from pomegranate import *\n",
    "PatientAge = DiscreteDistribution({'0-30':0.1, '31-65':0.3, '65+': 0.6})\n",
    "CTScanResult = DiscreteDistribution({'Ischemic':0.7, 'Hemmorraghic':0.3})\n",
    "MRIScanResult = DiscreteDistribution({'Ischemic':0.7, 'Hemmorraghic':0.3})\n",
    "Anticoagulants = DiscreteDistribution({'Used':0.5, 'Not used': 0.5})\n",
    "\n",
    "StrokeType = ConditionalProbabilityTable([['Ischemic','Ischemic','Ischemic',0.8],\n",
    "                                          ['Ischemic','Ischemic','Hemmorraghic',0.0],\n",
    "                                          ['Ischemic','Ischemic','Mimic',0.2],\n",
    "                                          ['Ischemic','Hemmorraghic','Ischemic',0.5],\n",
    "                                          ['Ischemic','Hemmorraghic','Hemmorraghic',0.4],\n",
    "                                          ['Ischemic','Hemmorraghic','Mimic',0.1],\n",
    "                                          ['Hemmorraghic','Ischemic','Ischemic',0.5],\n",
    "                                          ['Hemmorraghic','Ischemic','Hemmorraghic',0.4],\n",
    "                                          ['Hemmorraghic','Ischemic','Mimic',0.1],\n",
    "                                          ['Hemmorraghic','Hemmorraghic','Ischemic',0.0],\n",
    "                                          ['Hemmorraghic','Hemmorraghic','Hemmorraghic',0.9],\n",
    "                                          ['Hemmorraghic','Hemmorraghic','Mimic',0.1]],[CTScanResult, MRIScanResult])\n",
    "\n",
    "Mortality = ConditionalProbabilityTable([['Ischemic','Used','False',0.28],\n",
    "                                         ['Ischemic','Used','True',0.72],\n",
    "                                         ['Ischemic','Not used','False',0.56],\n",
    "                                         ['Ischemic','Not used','True',0.44],\n",
    "                                         ['Hemmorraghic','Used','False',0.99],\n",
    "                                         ['Hemmorraghic','Used','True',0.01],\n",
    "                                         ['Hemmorraghic','Not used','False',0.58],\n",
    "                                         ['Hemmorraghic','Not used','True',0.42],\n",
    "                                         ['Mimic','Used','False',0.1],\n",
    "                                         ['Mimic','Used','True',0.9],\n",
    "                                         ['Mimic','Not used','False',0.05],\n",
    "                                         ['Mimic','Not used','True',0.95]],[StrokeType, Anticoagulants])\n",
    "\n",
    "Disability = ConditionalProbabilityTable([['Ischemic','0-30','Negligible',0.8],\n",
    "                                          ['Ischemic','0-30','Moderate',0.1],\n",
    "                                          ['Ischemic','0-30','Severe',0.1],\n",
    "                                          ['Hemmorraghic','0-30','Negligible',0.7],\n",
    "                                          ['Hemmorraghic','0-30','Moderate',0.2],\n",
    "                                          ['Hemmorraghic','0-30','Severe',0.1],\n",
    "                                          ['Mimic','0-30','Negligible',0.9],\n",
    "                                          ['Mimic','0-30','Moderate',0.05],\n",
    "                                          ['Mimic','0-30','Severe',0.05],\n",
    "                                    \n",
    "                                          ['Ischemic','31-65','Negligible',0.6],\n",
    "                                          ['Ischemic','31-65','Moderate',0.3],\n",
    "                                          ['Ischemic','31-65','Severe',0.1],\n",
    "                                          ['Hemmorraghic','31-65','Negligible',0.5],\n",
    "                                          ['Hemmorraghic','31-65','Moderate',0.4],\n",
    "                                          ['Hemmorraghic','31-65','Severe',0.1],\n",
    "                                          ['Mimic','31-65','Negligible',0.4],\n",
    "                                          ['Mimic','31-65','Moderate',0.3],\n",
    "                                          ['Mimic','31-65','Severe',0.3],\n",
    "                                          \n",
    "                                          ['Ischemic','65+','Negligible',0.3],\n",
    "                                          ['Ischemic','65+','Moderate',0.4],\n",
    "                                          ['Ischemic','65+','Severe',0.3],\n",
    "                                          ['Hemmorraghic','65+','Negligible',0.2],\n",
    "                                          ['Hemmorraghic','65+','Moderate',0.2],\n",
    "                                          ['Hemmorraghic','65+','Severe',0.6],\n",
    "                                          ['Mimic','65+','Negligible',0.1],\n",
    "                                          ['Mimic','65+','Moderate',0.1],\n",
    "                                          ['Mimic','65+','Severe',0.8]],[StrokeType,PatientAge])"
   ]
  },
  {
   "cell_type": "code",
   "execution_count": 21,
   "metadata": {
    "collapsed": true
   },
   "outputs": [],
   "source": [
    "s1 = State(PatientAge, name='PatientAge')\n",
    "s2 = State(CTScanResult, name='CTScanResult')\n",
    "s3 = State(MRIScanResult, name='MRIScanResult')\n",
    "s4 = State(Anticoagulants, name='Anticoagulants')\n",
    "s5 = State(StrokeType, name='StrokeType')\n",
    "s6 = State(Mortality, name='Mortality')\n",
    "s7 = State(Disability, name='Disability')"
   ]
  },
  {
   "cell_type": "code",
   "execution_count": 22,
   "metadata": {
    "collapsed": true
   },
   "outputs": [],
   "source": [
    "#初始化贝叶斯网络，加入各节点\n",
    "model = BayesianNetwork(\"Diagnose problem\")\n",
    "model.add_states(s1,s2,s3,s4,s5,s6,s7)\n",
    "\n",
    "model.add_transition(s2,s5)\n",
    "model.add_transition(s3,s5)\n",
    "model.add_transition(s5,s6)\n",
    "model.add_transition(s4,s6)\n",
    "model.add_transition(s5,s7)\n",
    "model.add_transition(s1,s7)\n",
    "model.bake()"
   ]
  },
  {
   "cell_type": "code",
   "execution_count": 23,
   "metadata": {
    "collapsed": true
   },
   "outputs": [],
   "source": [
    "model_var_dict = {'PatientAge':['0-30','31-65','65+'],\n",
    "                  'CTScanResult': ['Ischemic','Hemmorraghic'],\n",
    "                  'MRIScanResult':['Ischemic','Hemmorraghic'],\n",
    "                  'Anticoagulants':['Used', 'Not used'],\n",
    "                  'StrokeType':['Ischemic','Hemmorraghic','Mimic'],\n",
    "                  'Mortality': ['False', 'True'],\n",
    "                  'Disability': ['Negligible','Moderate', 'Severe']}\n",
    "def calc_joint_pro(model, **var_dict):\n",
    "    for var in model_var_dict.keys():\n",
    "        if var_dict.get(var, None) == None:\n",
    "            res = 0.\n",
    "            temp_dict = var_dict.copy()\n",
    "            for value in model_var_dict[var]:\n",
    "                temp_dict[var] = value\n",
    "                res += calc_joint_pro(model, **temp_dict)\n",
    "            return res\n",
    "    return model.probability([var_dict[var] for var in model_var_dict.keys()])"
   ]
  },
  {
   "cell_type": "code",
   "execution_count": 24,
   "metadata": {
    "collapsed": true
   },
   "outputs": [],
   "source": [
    "p1 = calc_joint_pro(model, **{'Mortality':'True','PatientAge':'0-30', 'CTScanResult':'Ischemic'}) \\\n",
    "    / calc_joint_pro(model, **{'PatientAge':'0-30', 'CTScanResult':'Ischemic'})\n",
    "p2 = calc_joint_pro(model, **{'Disability':'Severe','PatientAge':'65+','MRIScanResult':'Ischemic'}) \\\n",
    "    / calc_joint_pro(model, **{'PatientAge':'65+','MRIScanResult':'Ischemic'})\n",
    "p3 = calc_joint_pro(model, **{'StrokeType':'Mimic','PatientAge':'65+', \n",
    "                         'CTScanResult':'Hemmorraghic','MRIScanResult':'Ischemic'}) \\\n",
    "    / calc_joint_pro(model, **{'PatientAge':'65+', \n",
    "                         'CTScanResult':'Hemmorraghic','MRIScanResult':'Ischemic'})\n",
    "p4 = calc_joint_pro(model, **{'Mortality':'False','PatientAge':'0-30', \n",
    "                         'Anticoagulants':'Used', 'StrokeType':'Mimic'}) \\\n",
    "    / calc_joint_pro(model, **{'PatientAge':'0-30', \n",
    "                         'Anticoagulants':'Used', 'StrokeType':'Mimic'})\n",
    "p5 = calc_joint_pro(model, **{'PatientAge':'0-30', 'CTScanResult':'Ischemic', \n",
    "                         'MRIScanResult':'Hemmorraghic', 'Anticoagulants':'Used', \n",
    "                         'StrokeType':'Mimic', 'Disability':'Severe', 'Mortality':'False'})"
   ]
  },
  {
   "cell_type": "code",
   "execution_count": 29,
   "metadata": {},
   "outputs": [
    {
     "name": "stdout",
     "output_type": "stream",
     "text": [
      "Diagnosing问题求解——\n",
      "P(Mortality='True'|PatientAge='0-30',CTScanResult='Ischemic Stroke') = 0.5948500000000002\n",
      "P(Disability=' Severe'|PatientAge='65+',MRIScanResult='Ischemic Stroke') = 0.4210000000000001\n",
      "P(StrokeType='Stroke Mimic'|PatientAge='65+',CTScanResult='Hemmorraghic Stroke',MRIScanResult='Ischemic Stroke') = 0.10000000000000007\n",
      "P(Mortality='False'|PatientAge='0-30',Anticoagulants='Used,StrokeType='Stroke Mimic') = 0.09999999999999995\n",
      "P(PatientAge='0-30',CTScanResult='Ischemic Stroke',MRIScanResult='Hemmorraghic Stroke',\n",
      "  Anticoagulants='Used',StrokeType='Stroke Mimic',Disability='Severe',Mortality='False') = 5.250000000000009e-06\n"
     ]
    }
   ],
   "source": [
    "print('Diagnosing问题求解——')\n",
    "print(\"P(Mortality='True'|PatientAge='0-30',CTScanResult='Ischemic Stroke') =\", p1)\n",
    "print(\"P(Disability=' Severe'|PatientAge='65+',MRIScanResult='Ischemic Stroke') =\", p2)\n",
    "print(\"P(StrokeType='Stroke Mimic'|PatientAge='65+',CTScanResult='Hemmorraghic Stroke',MRIScanResult='Ischemic Stroke') =\", p3)\n",
    "print(\"P(Mortality='False'|PatientAge='0-30',Anticoagulants='Used,StrokeType='Stroke Mimic') =\", p4)\n",
    "print(\"P(PatientAge='0-30',CTScanResult='Ischemic Stroke',MRIScanResult='Hemmorraghic Stroke',\\n \\\n",
    " Anticoagulants='Used',StrokeType='Stroke Mimic',Disability='Severe',Mortality='False') =\", p5)"
   ]
  },
  {
   "cell_type": "code",
   "execution_count": 7,
   "metadata": {},
   "outputs": [
    {
     "data": {
      "text/plain": [
       "0.5948500000000002"
      ]
     },
     "execution_count": 7,
     "metadata": {},
     "output_type": "execute_result"
    }
   ],
   "source": [
    "calc_joint_pro(model, **{'Mortality':'True','PatientAge':'0-30', 'CTScanResult':'Ischemic'}) \\\n",
    "    / calc_joint_pro(model, **{'PatientAge':'0-30', 'CTScanResult':'Ischemic'})"
   ]
  },
  {
   "cell_type": "code",
   "execution_count": 8,
   "metadata": {},
   "outputs": [
    {
     "data": {
      "text/plain": [
       "0.4210000000000001"
      ]
     },
     "execution_count": 8,
     "metadata": {},
     "output_type": "execute_result"
    }
   ],
   "source": [
    "calc_joint_pro(model, **{'Disability':'Severe','PatientAge':'65+','MRIScanResult':'Ischemic'}) \\\n",
    "    / calc_joint_pro(model, **{'PatientAge':'65+','MRIScanResult':'Ischemic'})"
   ]
  },
  {
   "cell_type": "code",
   "execution_count": 9,
   "metadata": {},
   "outputs": [
    {
     "data": {
      "text/plain": [
       "0.10000000000000007"
      ]
     },
     "execution_count": 9,
     "metadata": {},
     "output_type": "execute_result"
    }
   ],
   "source": [
    "calc_joint_pro(model, **{'StrokeType':'Mimic','PatientAge':'65+', \n",
    "                         'CTScanResult':'Hemmorraghic','MRIScanResult':'Ischemic'}) \\\n",
    "    / calc_joint_pro(model, **{'PatientAge':'65+', \n",
    "                         'CTScanResult':'Hemmorraghic','MRIScanResult':'Ischemic'})"
   ]
  },
  {
   "cell_type": "code",
   "execution_count": 10,
   "metadata": {},
   "outputs": [
    {
     "data": {
      "text/plain": [
       "0.09999999999999995"
      ]
     },
     "execution_count": 10,
     "metadata": {},
     "output_type": "execute_result"
    }
   ],
   "source": [
    "calc_joint_pro(model, **{'Mortality':'False','PatientAge':'0-30', \n",
    "                         'Anticoagulants':'Used', 'StrokeType':'Mimic'}) \\\n",
    "    / calc_joint_pro(model, **{'PatientAge':'0-30', \n",
    "                         'Anticoagulants':'Used', 'StrokeType':'Mimic'})"
   ]
  },
  {
   "cell_type": "code",
   "execution_count": 11,
   "metadata": {},
   "outputs": [
    {
     "data": {
      "text/plain": [
       "5.250000000000009e-06"
      ]
     },
     "execution_count": 11,
     "metadata": {},
     "output_type": "execute_result"
    }
   ],
   "source": [
    "calc_joint_pro(model, **{'PatientAge':'0-30', 'CTScanResult':'Ischemic', \n",
    "                         'MRIScanResult':'Hemmorraghic', 'Anticoagulants':'Used', \n",
    "                         'StrokeType':'Mimic', 'Disability':'Severe', 'Mortality':'False'})"
   ]
  },
  {
   "cell_type": "code",
   "execution_count": null,
   "metadata": {
    "collapsed": true
   },
   "outputs": [],
   "source": []
  }
 ],
 "metadata": {
  "kernelspec": {
   "display_name": "Python 3",
   "language": "python",
   "name": "python3"
  },
  "language_info": {
   "codemirror_mode": {
    "name": "ipython",
    "version": 3
   },
   "file_extension": ".py",
   "mimetype": "text/x-python",
   "name": "python",
   "nbconvert_exporter": "python",
   "pygments_lexer": "ipython3",
   "version": "3.6.3"
  }
 },
 "nbformat": 4,
 "nbformat_minor": 2
}
