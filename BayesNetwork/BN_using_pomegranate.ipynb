{
 "cells": [
  {
   "cell_type": "code",
   "execution_count": 21,
   "metadata": {
    "collapsed": true
   },
   "outputs": [],
   "source": [
    "from pomegranate import *"
   ]
  },
  {
   "cell_type": "markdown",
   "metadata": {},
   "source": [
    "### 三门问题"
   ]
  },
  {
   "cell_type": "code",
   "execution_count": 22,
   "metadata": {},
   "outputs": [],
   "source": [
    "#三门问题\n",
    "#构建条件概率列表\n",
    "ConditionalProbabilityList = []\n",
    "for first in ['A', 'B', 'C']:\n",
    "    for second in ['A', 'B', 'C']:\n",
    "        for third in ['A', 'B', 'C']:\n",
    "            pro = 0.0 if (third == first or third == second) else (1.0 if first != second else 0.5)\n",
    "            ConditionalProbabilityList.append([first, second, third, pro])"
   ]
  },
  {
   "cell_type": "code",
   "execution_count": 57,
   "metadata": {},
   "outputs": [
    {
     "data": {
      "text/plain": [
       "27"
      ]
     },
     "execution_count": 57,
     "metadata": {},
     "output_type": "execute_result"
    }
   ],
   "source": [
    "len(ConditionalProbabilityList)"
   ]
  },
  {
   "cell_type": "code",
   "execution_count": 23,
   "metadata": {
    "collapsed": true
   },
   "outputs": [],
   "source": [
    "#初始化每个节点的分布\n",
    "guest = DiscreteDistribution({'A': 1./3, 'B': 1./3, 'C': 1./3})\n",
    "prize = DiscreteDistribution({'A': 1./3, 'B': 1./3, 'C': 1./3})\n",
    "monty = ConditionalProbabilityTable(ConditionalProbabilityList,[guest, prize])\n",
    "s1 = State(guest, name='guest')\n",
    "s2 = State(prize, name='prize')\n",
    "s3 = State(monty, name='monty')"
   ]
  },
  {
   "cell_type": "code",
   "execution_count": 24,
   "metadata": {
    "collapsed": true
   },
   "outputs": [],
   "source": [
    "#初始化贝叶斯网络，加入节点\n",
    "model = BayesianNetwork(\"Monty Hall Problem\")\n",
    "model.add_states(s1,s2,s3)"
   ]
  },
  {
   "cell_type": "code",
   "execution_count": 25,
   "metadata": {
    "collapsed": true
   },
   "outputs": [],
   "source": [
    "#加入边\n",
    "model.add_transition(s1, s3)\n",
    "model.add_transition(s2, s3)\n",
    "model.bake() #加入边结束"
   ]
  },
  {
   "cell_type": "code",
   "execution_count": 28,
   "metadata": {},
   "outputs": [
    {
     "data": {
      "text/plain": [
       "0.11111111111111109"
      ]
     },
     "execution_count": 28,
     "metadata": {},
     "output_type": "execute_result"
    },
    {
     "data": {
      "text/plain": [
       "0.0"
      ]
     },
     "execution_count": 28,
     "metadata": {},
     "output_type": "execute_result"
    }
   ],
   "source": [
    "model.probability(['A', 'C', 'B'])\n",
    "model.probability(['A', 'C', 'A'])"
   ]
  },
  {
   "cell_type": "markdown",
   "metadata": {},
   "source": [
    "### Burglary问题"
   ]
  },
  {
   "cell_type": "code",
   "execution_count": 124,
   "metadata": {},
   "outputs": [],
   "source": [
    "#Burglary问题\n",
    "#初始化每个节点的分布\n",
    "Burglary = DiscreteDistribution({'B': 0.001, '~B': 0.999})\n",
    "Earthquake = DiscreteDistribution({'E': 0.002, '~E': 0.998})\n",
    "Alarm = ConditionalProbabilityTable([['B','E','A',0.95],\n",
    "                                     ['B','E','~A',0.05],\n",
    "                                     ['B','~E','A',0.94],\n",
    "                                     ['B','~E','~A',0.06],\n",
    "                                     ['~B','E','A',0.29],\n",
    "                                     ['~B','E','~A',0.71],\n",
    "                                     ['~B','~E','A',0.001],\n",
    "                                     ['~B','~E','~A',0.999]], [Burglary, Earthquake])\n",
    "Johncalls = ConditionalProbabilityTable([['A', 'J', 0.9],\n",
    "                                         ['A', '~J', 0.1],\n",
    "                                         ['~A', 'J', 0.05],\n",
    "                                         ['~A', '~J', 0.95]],[Alarm])\n",
    "Marycalls = ConditionalProbabilityTable([['A', 'M', 0.7],\n",
    "                                         ['A', '~M', 0.3],\n",
    "                                         ['~A', 'M', 0.01],\n",
    "                                         ['~A', '~M', 0.99]],[Alarm])\n",
    "s1 = State(Burglary, name='Burglary')\n",
    "s2 = State(Earthquake, name='Earthquake')\n",
    "s3 = State(Alarm, name='Alarm')\n",
    "s4 = State(Johncalls, name='Johncalls')\n",
    "s5 = State(Marycalls, name='Marycalls')"
   ]
  },
  {
   "cell_type": "code",
   "execution_count": 125,
   "metadata": {},
   "outputs": [],
   "source": [
    "#初始化贝叶斯网络，加入各节点\n",
    "model = BayesianNetwork(\"Burglary problem\")\n",
    "model.add_states(s1,s2,s3,s4,s5)"
   ]
  },
  {
   "cell_type": "code",
   "execution_count": 126,
   "metadata": {
    "collapsed": true
   },
   "outputs": [],
   "source": [
    "#加入边\n",
    "model.add_transition(s1,s3)\n",
    "model.add_transition(s2,s3)\n",
    "model.add_transition(s3,s4)\n",
    "model.add_transition(s3,s5)\n",
    "model.bake()"
   ]
  },
  {
   "cell_type": "code",
   "execution_count": 183,
   "metadata": {},
   "outputs": [],
   "source": [
    "#计算联合概率\n",
    "model_var_dict = {'Burglary':['B', '~B'], 'Earthquake':['E','~E'], \n",
    "                  'Alarm':['A','~A'], 'Johncalls':['J','~J'], \n",
    "                  'Marycalls':['M','~M']}\n",
    "def calc_joint_pro(model, **var_dict):\n",
    "    for var in model_var_dict.keys():\n",
    "        if var_dict.get(var, None) == None:\n",
    "            res = 0.\n",
    "            temp_dict = var_dict.copy()\n",
    "            for value in model_var_dict[var]:\n",
    "                temp_dict[var] = value\n",
    "                res += calc_joint_pro(model, **temp_dict)\n",
    "            return res\n",
    "    return model.probability([var_dict[var] for var in model_var_dict.keys()])"
   ]
  },
  {
   "cell_type": "code",
   "execution_count": 184,
   "metadata": {},
   "outputs": [
    {
     "data": {
      "text/plain": [
       "0.0020841002390000014"
      ]
     },
     "execution_count": 184,
     "metadata": {},
     "output_type": "execute_result"
    }
   ],
   "source": [
    "calc_joint_pro(model, **{'Johncalls': 'J', 'Marycalls': 'M'})"
   ]
  },
  {
   "cell_type": "code",
   "execution_count": 185,
   "metadata": {},
   "outputs": [
    {
     "data": {
      "text/plain": [
       "1.1969999999999995e-06"
      ]
     },
     "execution_count": 185,
     "metadata": {},
     "output_type": "execute_result"
    }
   ],
   "source": [
    "calc_joint_pro(model, **{'Burglary': 'B', 'Earthquake': 'E',\n",
    "                          'Alarm': 'A', 'Johncalls': 'J', 'Marycalls': 'M'})"
   ]
  },
  {
   "cell_type": "code",
   "execution_count": 186,
   "metadata": {},
   "outputs": [
    {
     "data": {
      "text/plain": [
       "0.7606920388631077"
      ]
     },
     "execution_count": 186,
     "metadata": {},
     "output_type": "execute_result"
    }
   ],
   "source": [
    "calc_joint_pro(model, **{'Alarm': 'A', 'Johncalls': 'J', 'Marycalls': 'M'}) \\\n",
    "    / calc_joint_pro(model, **{'Johncalls': 'J', 'Marycalls': 'M'})"
   ]
  },
  {
   "cell_type": "code",
   "execution_count": 187,
   "metadata": {},
   "outputs": [
    {
     "data": {
      "text/plain": [
       "0.049847948999999996"
      ]
     },
     "execution_count": 187,
     "metadata": {},
     "output_type": "execute_result"
    }
   ],
   "source": [
    "calc_joint_pro(model, **{'Burglary': '~B', 'Johncalls': 'J', 'Marycalls': '~M'}) \\\n",
    "    / calc_joint_pro(model, **{'Burglary': '~B'})"
   ]
  },
  {
   "cell_type": "code",
   "execution_count": null,
   "metadata": {
    "collapsed": true
   },
   "outputs": [],
   "source": []
  },
  {
   "cell_type": "markdown",
   "metadata": {},
   "source": [
    "### Diagnosing问题"
   ]
  },
  {
   "cell_type": "code",
   "execution_count": 192,
   "metadata": {},
   "outputs": [],
   "source": [
    "PatientAge = DiscreteDistribution({'0-30':0.1, '31-65':0.3, '65+': 0.6})\n",
    "CTScanResult = DiscreteDistribution({'Ischemic':0.7, 'Hemmorraghic':0.3})\n",
    "MRIScanResult = DiscreteDistribution({'Ischemic':0.7, 'Hemmorraghic':0.3})\n",
    "Anticoagulants = DiscreteDistribution({'Used':0.5, 'Not used': 0.5})\n",
    "\n",
    "StrokeType = ConditionalProbabilityTable([['Ischemic','Ischemic','Ischemic',0.8],\n",
    "                                          ['Ischemic','Ischemic','Hemmorraghic',0.0],\n",
    "                                          ['Ischemic','Ischemic','Mimic',0.2],\n",
    "                                          ['Ischemic','Hemmorraghic','Ischemic',0.5],\n",
    "                                          ['Ischemic','Hemmorraghic','Hemmorraghic',0.4],\n",
    "                                          ['Ischemic','Hemmorraghic','Mimic',0.1],\n",
    "                                          ['Hemmorraghic','Ischemic','Ischemic',0.5],\n",
    "                                          ['Hemmorraghic','Ischemic','Hemmorraghic',0.4],\n",
    "                                          ['Hemmorraghic','Ischemic','Mimic',0.1],\n",
    "                                          ['Hemmorraghic','Hemmorraghic','Ischemic',0.0],\n",
    "                                          ['Hemmorraghic','Hemmorraghic','Hemmorraghic',0.9],\n",
    "                                          ['Hemmorraghic','Hemmorraghic','Mimic',0.1]],[CTScanResult, MRIScanResult])\n",
    "\n",
    "Mortality = ConditionalProbabilityTable([['Ischemic','Used','False',0.28],\n",
    "                                         ['Ischemic','Used','True',0.72],\n",
    "                                         ['Ischemic','Not used','False',0.99],\n",
    "                                         ['Ischemic','Not used','True',0.01],\n",
    "                                         ['Hemmorraghic','Used','False',0.1],\n",
    "                                         ['Hemmorraghic','Used','True',0.9],\n",
    "                                         ['Hemmorraghic','Not used','False',0.56],\n",
    "                                         ['Hemmorraghic','Not used','True',0.44],\n",
    "                                         ['Mimic','Used','False',0.58],\n",
    "                                         ['Mimic','Used','True',0.42],\n",
    "                                         ['Mimic','Not used','False',0.05],\n",
    "                                         ['Mimic','Not used','True',0.95]],[StrokeType, Anticoagulants])\n",
    "\n",
    "Disability = ConditionalProbabilityTable([['Ischemic','0-30','Negligible',0.8],\n",
    "                                          ['Ischemic','0-30','Moderate',0.1],\n",
    "                                          ['Ischemic','0-30','Severe',0.1],\n",
    "                                          ['Hemmorraghic','0-30','Negligible',0.7],\n",
    "                                          ['Hemmorraghic','0-30','Moderate',0.2],\n",
    "                                          ['Hemmorraghic','0-30','Severe',0.1],\n",
    "                                          ['Mimic','0-30','Negligible',0.9],\n",
    "                                          ['Mimic','0-30','Moderate',0.05],\n",
    "                                          ['Mimic','0-30','Severe',0.05],\n",
    "                                    \n",
    "                                          ['Ischemic','31-65','Negligible',0.6],\n",
    "                                          ['Ischemic','31-65','Moderate',0.3],\n",
    "                                          ['Ischemic','31-65','Severe',0.1],\n",
    "                                          ['Hemmorraghic','31-65','Negligible',0.5],\n",
    "                                          ['Hemmorraghic','31-65','Moderate',0.4],\n",
    "                                          ['Hemmorraghic','31-65','Severe',0.1],\n",
    "                                          ['Mimic','31-65','Negligible',0.4],\n",
    "                                          ['Mimic','31-65','Moderate',0.3],\n",
    "                                          ['Mimic','31-65','Severe',0.3],\n",
    "                                          \n",
    "                                          ['Ischemic','65+','Negligible',0.3],\n",
    "                                          ['Ischemic','65+','Moderate',0.4],\n",
    "                                          ['Ischemic','65+','Severe',0.3],\n",
    "                                          ['Hemmorraghic','65+','Negligible',0.2],\n",
    "                                          ['Hemmorraghic','65+','Moderate',0.2],\n",
    "                                          ['Hemmorraghic','65+','Severe',0.6],\n",
    "                                          ['Mimic','65+','Negligible',0.1],\n",
    "                                          ['Mimic','65+','Moderate',0.1],\n",
    "                                          ['Mimic','65+','Severe',0.8]],[StrokeType,PatientAge])"
   ]
  },
  {
   "cell_type": "code",
   "execution_count": 193,
   "metadata": {
    "collapsed": true
   },
   "outputs": [],
   "source": [
    "s1 = State(PatientAge, name='PatientAge')\n",
    "s2 = State(CTScanResult, name='CTScanResult')\n",
    "s3 = State(MRIScanResult, name='MRIScanResult')\n",
    "s4 = State(Anticoagulants, name='Anticoagulants')\n",
    "s5 = State(StrokeType, name='StrokeType')\n",
    "s6 = State(Mortality, name='Mortality')\n",
    "s7 = State(Disability, name='Disability')"
   ]
  },
  {
   "cell_type": "code",
   "execution_count": 194,
   "metadata": {
    "collapsed": true
   },
   "outputs": [],
   "source": [
    "#初始化贝叶斯网络，加入各节点\n",
    "model = BayesianNetwork(\"Diagnose problem\")\n",
    "model.add_states(s1,s2,s3,s4,s5,s6,s7)"
   ]
  },
  {
   "cell_type": "code",
   "execution_count": 195,
   "metadata": {
    "collapsed": true
   },
   "outputs": [],
   "source": [
    "model.add_transition(s2,s5)\n",
    "model.add_transition(s3,s5)\n",
    "model.add_transition(s5,s6)\n",
    "model.add_transition(s4,s6)\n",
    "model.add_transition(s5,s7)\n",
    "model.add_transition(s1,s7)\n",
    "model.bake()"
   ]
  },
  {
   "cell_type": "code",
   "execution_count": 196,
   "metadata": {
    "collapsed": true
   },
   "outputs": [],
   "source": [
    "model_var_dict = {'PatientAge':['0-30','31-65','65+'],\n",
    "                  'CTScanResult': ['Ischemic','Hemmorraghic'],\n",
    "                  'MRIScanResult':['Ischemic','Hemmorraghic'],\n",
    "                  'Anticoagulants':['Used', 'Not used'],\n",
    "                  'StrokeType':['Ischemic','Hemmorraghic','Mimic'],\n",
    "                  'Mortality': ['False', 'True'],\n",
    "                  'Disability': ['Negligible','Moderate', 'Severe']}\n",
    "def calc_joint_pro(model, **var_dict):\n",
    "    for var in model_var_dict.keys():\n",
    "        if var_dict.get(var, None) == None:\n",
    "            res = 0.\n",
    "            temp_dict = var_dict.copy()\n",
    "            for value in model_var_dict[var]:\n",
    "                temp_dict[var] = value\n",
    "                res += calc_joint_pro(model, **temp_dict)\n",
    "            return res\n",
    "    return model.probability([var_dict[var] for var in model_var_dict.keys()])"
   ]
  },
  {
   "cell_type": "code",
   "execution_count": 199,
   "metadata": {},
   "outputs": [
    {
     "data": {
      "text/plain": [
       "0.4560000000000001"
      ]
     },
     "execution_count": 199,
     "metadata": {},
     "output_type": "execute_result"
    }
   ],
   "source": [
    "calc_joint_pro(model, **{'Mortality':'True','PatientAge':'0-30', 'CTScanResult':'Ischemic'}) \\\n",
    "    / calc_joint_pro(model, **{'PatientAge':'0-30', 'CTScanResult':'Ischemic'})"
   ]
  },
  {
   "cell_type": "code",
   "execution_count": 202,
   "metadata": {},
   "outputs": [
    {
     "data": {
      "text/plain": [
       "0.42100000000000004"
      ]
     },
     "execution_count": 202,
     "metadata": {},
     "output_type": "execute_result"
    }
   ],
   "source": [
    "calc_joint_pro(model, **{'Disability':'Severe','PatientAge':'65+','MRIScanResult':'Ischemic'}) \\\n",
    "    / calc_joint_pro(model, **{'PatientAge':'65+','MRIScanResult':'Ischemic'})"
   ]
  },
  {
   "cell_type": "code",
   "execution_count": 204,
   "metadata": {},
   "outputs": [
    {
     "data": {
      "text/plain": [
       "0.10000000000000005"
      ]
     },
     "execution_count": 204,
     "metadata": {},
     "output_type": "execute_result"
    }
   ],
   "source": [
    "calc_joint_pro(model, **{'StrokeType':'Mimic','PatientAge':'65+', \n",
    "                         'CTScanResult':'Hemmorraghic','MRIScanResult':'Ischemic'}) \\\n",
    "    / calc_joint_pro(model, **{'PatientAge':'65+', \n",
    "                         'CTScanResult':'Hemmorraghic','MRIScanResult':'Ischemic'})"
   ]
  },
  {
   "cell_type": "code",
   "execution_count": 206,
   "metadata": {},
   "outputs": [
    {
     "data": {
      "text/plain": [
       "0.5800000000000001"
      ]
     },
     "execution_count": 206,
     "metadata": {},
     "output_type": "execute_result"
    }
   ],
   "source": [
    "calc_joint_pro(model, **{'Mortality':'False','PatientAge':'0-30', \n",
    "                         'Anticoagulants':'Used', 'StrokeType':'Mimic'}) \\\n",
    "    / calc_joint_pro(model, **{'PatientAge':'0-30', \n",
    "                         'Anticoagulants':'Used', 'StrokeType':'Mimic'})"
   ]
  },
  {
   "cell_type": "code",
   "execution_count": 207,
   "metadata": {},
   "outputs": [
    {
     "data": {
      "text/plain": [
       "3.0450000000000035e-05"
      ]
     },
     "execution_count": 207,
     "metadata": {},
     "output_type": "execute_result"
    }
   ],
   "source": [
    "calc_joint_pro(model, **{'PatientAge':'0-30', 'CTScanResult':'Ischemic', \n",
    "                         'MRIScanResult':'Hemmorraghic', 'Anticoagulants':'Used', \n",
    "                         'StrokeType':'Mimic', 'Disability':'Severe', 'Mortality':'False'})"
   ]
  },
  {
   "cell_type": "code",
   "execution_count": null,
   "metadata": {
    "collapsed": true
   },
   "outputs": [],
   "source": []
  }
 ],
 "metadata": {
  "kernelspec": {
   "display_name": "Python 3",
   "language": "python",
   "name": "python3"
  },
  "language_info": {
   "codemirror_mode": {
    "name": "ipython",
    "version": 3
   },
   "file_extension": ".py",
   "mimetype": "text/x-python",
   "name": "python",
   "nbconvert_exporter": "python",
   "pygments_lexer": "ipython3",
   "version": "3.6.3"
  }
 },
 "nbformat": 4,
 "nbformat_minor": 2
}
